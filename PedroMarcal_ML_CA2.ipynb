{
 "cells": [
  {
   "cell_type": "markdown",
   "id": "f2df800f",
   "metadata": {},
   "source": [
    "# Name, etc"
   ]
  },
  {
   "cell_type": "markdown",
   "id": "1b2995f2",
   "metadata": {},
   "source": [
    "# Introduction\n",
    "\n",
    "This CA consists of 2 parts. Neural Networks and Semantic analysis.\n",
    "\n",
    "### Neural Networks\n",
    "\n",
    "You are required to take data stored file “BankRecords.csv”, available on Moodle and process the data into a DataFrame. \n",
    "You are then required to train a Neural Network to predict the “Income(Thousands’)” of the customers, including tuning the network to achieve the best results.\n",
    "You must also compare your neural network to a standard ML regressor of your choosing and discuss your findings in the context of the problem at hand.\n",
    "\n",
    "### Semantic Analysis\n",
    "\n",
    "You are required to source text data from any social media platform on any topic that you choose and perform semantic analysis on the text. This analysis should provide a visualization of  the overall sentiment of your text data , showing the positive, neutral, and negative sentiment expressed. You will require at least 1000 text observations."
   ]
  },
  {
   "cell_type": "code",
   "execution_count": 4,
   "id": "5ffdeb57-aed1-41e5-8bad-08087636bf29",
   "metadata": {},
   "outputs": [
    {
     "name": "stdout",
     "output_type": "stream",
     "text": [
      "Collecting matplotlib\n",
      "  Downloading matplotlib-3.9.0-cp39-cp39-win_amd64.whl.metadata (11 kB)\n",
      "Collecting contourpy>=1.0.1 (from matplotlib)\n",
      "  Downloading contourpy-1.2.1-cp39-cp39-win_amd64.whl.metadata (5.8 kB)\n",
      "Collecting cycler>=0.10 (from matplotlib)\n",
      "  Downloading cycler-0.12.1-py3-none-any.whl.metadata (3.8 kB)\n",
      "Collecting fonttools>=4.22.0 (from matplotlib)\n",
      "  Downloading fonttools-4.52.4-cp39-cp39-win_amd64.whl.metadata (164 kB)\n",
      "     ---------------------------------------- 0.0/165.0 kB ? eta -:--:--\n",
      "     -------------------------------------  163.8/165.0 kB 5.0 MB/s eta 0:00:01\n",
      "     -------------------------------------- 165.0/165.0 kB 1.7 MB/s eta 0:00:00\n",
      "Collecting kiwisolver>=1.3.1 (from matplotlib)\n",
      "  Downloading kiwisolver-1.4.5-cp39-cp39-win_amd64.whl.metadata (6.5 kB)\n",
      "Requirement already satisfied: numpy>=1.23 in c:\\users\\henri\\anaconda3\\lib\\site-packages (from matplotlib) (1.26.4)\n",
      "Requirement already satisfied: packaging>=20.0 in c:\\users\\henri\\anaconda3\\lib\\site-packages (from matplotlib) (23.2)\n",
      "Collecting pillow>=8 (from matplotlib)\n",
      "  Downloading pillow-10.3.0-cp39-cp39-win_amd64.whl.metadata (9.4 kB)\n",
      "Collecting pyparsing>=2.3.1 (from matplotlib)\n",
      "  Downloading pyparsing-3.1.2-py3-none-any.whl.metadata (5.1 kB)\n",
      "Requirement already satisfied: python-dateutil>=2.7 in c:\\users\\henri\\anaconda3\\lib\\site-packages (from matplotlib) (2.9.0.post0)\n",
      "Collecting importlib-resources>=3.2.0 (from matplotlib)\n",
      "  Downloading importlib_resources-6.4.0-py3-none-any.whl.metadata (3.9 kB)\n",
      "Requirement already satisfied: zipp>=3.1.0 in c:\\users\\henri\\anaconda3\\lib\\site-packages (from importlib-resources>=3.2.0->matplotlib) (3.17.0)\n",
      "Requirement already satisfied: six>=1.5 in c:\\users\\henri\\anaconda3\\lib\\site-packages (from python-dateutil>=2.7->matplotlib) (1.16.0)\n",
      "Downloading matplotlib-3.9.0-cp39-cp39-win_amd64.whl (7.9 MB)\n",
      "   ---------------------------------------- 0.0/7.9 MB ? eta -:--:--\n",
      "   - -------------------------------------- 0.4/7.9 MB 7.4 MB/s eta 0:00:02\n",
      "   --- ------------------------------------ 0.7/7.9 MB 5.9 MB/s eta 0:00:02\n",
      "   ----- ---------------------------------- 1.1/7.9 MB 5.6 MB/s eta 0:00:02\n",
      "   ------- -------------------------------- 1.4/7.9 MB 5.5 MB/s eta 0:00:02\n",
      "   -------- ------------------------------- 1.7/7.9 MB 5.5 MB/s eta 0:00:02\n",
      "   ---------- ----------------------------- 2.1/7.9 MB 5.3 MB/s eta 0:00:02\n",
      "   ------------ --------------------------- 2.5/7.9 MB 5.3 MB/s eta 0:00:02\n",
      "   -------------- ------------------------- 2.9/7.9 MB 5.4 MB/s eta 0:00:01\n",
      "   ---------------- ----------------------- 3.3/7.9 MB 5.3 MB/s eta 0:00:01\n",
      "   ----------------- ---------------------- 3.5/7.9 MB 5.4 MB/s eta 0:00:01\n",
      "   ------------------- -------------------- 3.8/7.9 MB 5.4 MB/s eta 0:00:01\n",
      "   --------------------- ------------------ 4.2/7.9 MB 5.5 MB/s eta 0:00:01\n",
      "   ---------------------- ----------------- 4.6/7.9 MB 5.5 MB/s eta 0:00:01\n",
      "   ------------------------ --------------- 4.8/7.9 MB 5.5 MB/s eta 0:00:01\n",
      "   -------------------------- ------------- 5.3/7.9 MB 5.6 MB/s eta 0:00:01\n",
      "   ---------------------------- ----------- 5.6/7.9 MB 5.6 MB/s eta 0:00:01\n",
      "   ------------------------------ --------- 6.0/7.9 MB 5.6 MB/s eta 0:00:01\n",
      "   -------------------------------- ------- 6.4/7.9 MB 5.7 MB/s eta 0:00:01\n",
      "   --------------------------------- ------ 6.7/7.9 MB 5.7 MB/s eta 0:00:01\n",
      "   ----------------------------------- ---- 7.1/7.9 MB 5.7 MB/s eta 0:00:01\n",
      "   ------------------------------------- -- 7.5/7.9 MB 5.7 MB/s eta 0:00:01\n",
      "   ---------------------------------------  7.9/7.9 MB 5.8 MB/s eta 0:00:01\n",
      "   ---------------------------------------  7.9/7.9 MB 5.8 MB/s eta 0:00:01\n",
      "   ---------------------------------------- 7.9/7.9 MB 5.5 MB/s eta 0:00:00\n",
      "Downloading contourpy-1.2.1-cp39-cp39-win_amd64.whl (182 kB)\n",
      "   ---------------------------------------- 0.0/182.8 kB ? eta -:--:--\n",
      "   ------------------------------------- - 174.1/182.8 kB 10.2 MB/s eta 0:00:01\n",
      "   ---------------------------------------- 182.8/182.8 kB 2.7 MB/s eta 0:00:00\n",
      "Downloading cycler-0.12.1-py3-none-any.whl (8.3 kB)\n",
      "Downloading fonttools-4.52.4-cp39-cp39-win_amd64.whl (2.2 MB)\n",
      "   ---------------------------------------- 0.0/2.2 MB ? eta -:--:--\n",
      "   ------ --------------------------------- 0.3/2.2 MB 10.9 MB/s eta 0:00:01\n",
      "   ----------- ---------------------------- 0.6/2.2 MB 8.0 MB/s eta 0:00:01\n",
      "   ---------------- ----------------------- 0.9/2.2 MB 7.3 MB/s eta 0:00:01\n",
      "   ---------------------- ----------------- 1.2/2.2 MB 7.1 MB/s eta 0:00:01\n",
      "   ----------------------------- ---------- 1.6/2.2 MB 6.9 MB/s eta 0:00:01\n",
      "   ------------------------------------ --- 2.0/2.2 MB 6.8 MB/s eta 0:00:01\n",
      "   ---------------------------------------  2.2/2.2 MB 6.4 MB/s eta 0:00:01\n",
      "   ---------------------------------------  2.2/2.2 MB 6.4 MB/s eta 0:00:01\n",
      "   ---------------------------------------- 2.2/2.2 MB 5.0 MB/s eta 0:00:00\n",
      "Downloading importlib_resources-6.4.0-py3-none-any.whl (38 kB)\n",
      "Downloading kiwisolver-1.4.5-cp39-cp39-win_amd64.whl (56 kB)\n",
      "   ---------------------------------------- 0.0/56.2 kB ? eta -:--:--\n",
      "   ---------------------------------------- 56.2/56.2 kB 1.5 MB/s eta 0:00:00\n",
      "Downloading pillow-10.3.0-cp39-cp39-win_amd64.whl (2.5 MB)\n",
      "   ---------------------------------------- 0.0/2.5 MB ? eta -:--:--\n",
      "   ---- ----------------------------------- 0.3/2.5 MB 9.3 MB/s eta 0:00:01\n",
      "   ----------- ---------------------------- 0.7/2.5 MB 7.4 MB/s eta 0:00:01\n",
      "   ---------------- ----------------------- 1.0/2.5 MB 6.6 MB/s eta 0:00:01\n",
      "   ----------------------- ---------------- 1.5/2.5 MB 6.6 MB/s eta 0:00:01\n",
      "   --------------------------- ------------ 1.7/2.5 MB 6.5 MB/s eta 0:00:01\n",
      "   --------------------------------- ------ 2.1/2.5 MB 6.5 MB/s eta 0:00:01\n",
      "   -------------------------------------- - 2.4/2.5 MB 6.5 MB/s eta 0:00:01\n",
      "   ---------------------------------------  2.5/2.5 MB 6.2 MB/s eta 0:00:01\n",
      "   ---------------------------------------- 2.5/2.5 MB 5.0 MB/s eta 0:00:00\n",
      "Downloading pyparsing-3.1.2-py3-none-any.whl (103 kB)\n",
      "   ---------------------------------------- 0.0/103.2 kB ? eta -:--:--\n",
      "   ---------------------------------------  102.4/103.2 kB 6.1 MB/s eta 0:00:01\n",
      "   ---------------------------------------- 103.2/103.2 kB 1.2 MB/s eta 0:00:00\n",
      "Installing collected packages: pyparsing, pillow, kiwisolver, importlib-resources, fonttools, cycler, contourpy, matplotlib\n",
      "Successfully installed contourpy-1.2.1 cycler-0.12.1 fonttools-4.52.4 importlib-resources-6.4.0 kiwisolver-1.4.5 matplotlib-3.9.0 pillow-10.3.0 pyparsing-3.1.2\n",
      "Note: you may need to restart the kernel to use updated packages.\n"
     ]
    }
   ],
   "source": [
    "pip install matplotlib"
   ]
  },
  {
   "cell_type": "code",
   "execution_count": 3,
   "id": "751d3599",
   "metadata": {},
   "outputs": [
    {
     "ename": "ModuleNotFoundError",
     "evalue": "No module named 'matplotlib'",
     "output_type": "error",
     "traceback": [
      "\u001b[1;31m---------------------------------------------------------------------------\u001b[0m",
      "\u001b[1;31mModuleNotFoundError\u001b[0m                       Traceback (most recent call last)",
      "Cell \u001b[1;32mIn[3], line 10\u001b[0m\n\u001b[0;32m      8\u001b[0m \u001b[38;5;28;01mfrom\u001b[39;00m \u001b[38;5;21;01msklearn\u001b[39;00m\u001b[38;5;21;01m.\u001b[39;00m\u001b[38;5;21;01mlinear_model\u001b[39;00m \u001b[38;5;28;01mimport\u001b[39;00m LinearRegression\n\u001b[0;32m      9\u001b[0m \u001b[38;5;28;01mfrom\u001b[39;00m \u001b[38;5;21;01msklearn\u001b[39;00m\u001b[38;5;21;01m.\u001b[39;00m\u001b[38;5;21;01mmetrics\u001b[39;00m \u001b[38;5;28;01mimport\u001b[39;00m mean_squared_error, r2_score\n\u001b[1;32m---> 10\u001b[0m \u001b[38;5;28;01mimport\u001b[39;00m \u001b[38;5;21;01mmatplotlib\u001b[39;00m\u001b[38;5;21;01m.\u001b[39;00m\u001b[38;5;21;01mpyplot\u001b[39;00m \u001b[38;5;28;01mas\u001b[39;00m \u001b[38;5;21;01mplt\u001b[39;00m\n\u001b[0;32m     11\u001b[0m \u001b[38;5;28;01mimport\u001b[39;00m \u001b[38;5;21;01mtensorflow\u001b[39;00m \u001b[38;5;28;01mas\u001b[39;00m \u001b[38;5;21;01mtf\u001b[39;00m\n\u001b[0;32m     12\u001b[0m \u001b[38;5;28;01mfrom\u001b[39;00m \u001b[38;5;21;01msklearn\u001b[39;00m\u001b[38;5;21;01m.\u001b[39;00m\u001b[38;5;21;01mcompose\u001b[39;00m \u001b[38;5;28;01mimport\u001b[39;00m ColumnTransformer\n",
      "\u001b[1;31mModuleNotFoundError\u001b[0m: No module named 'matplotlib'"
     ]
    }
   ],
   "source": [
    "# Import libraries needed\n",
    "\n",
    "import pandas as pd\n",
    "import numpy as np\n",
    "from sklearn.model_selection import train_test_split\n",
    "from sklearn.preprocessing import StandardScaler, LabelEncoder\n",
    "from sklearn.metrics import accuracy_score, confusion_matrix, classification_report\n",
    "from sklearn.linear_model import LinearRegression\n",
    "from sklearn.metrics import mean_squared_error, r2_score\n",
    "import matplotlib.pyplot as plt\n",
    "import tensorflow as tf\n",
    "from sklearn.compose import ColumnTransformer\n",
    "from sklearn.preprocessing import OneHotEncoder\n",
    "from numpy import loadtxt\n",
    "from keras.models import Sequential\n",
    "from keras.layers import Dense"
   ]
  },
  {
   "cell_type": "code",
   "execution_count": null,
   "id": "0742d239",
   "metadata": {},
   "outputs": [],
   "source": [
    "data = pd.read_csv(\"C:/Users/henri/Documents/GitHub/CA-Machine-Learning/BankRecords.csv\")\n",
    "data.head()"
   ]
  },
  {
   "cell_type": "code",
   "execution_count": null,
   "id": "771ad4b3",
   "metadata": {},
   "outputs": [],
   "source": [
    "# Check for missing values\n",
    "missing_values = data.isnull().sum()\n",
    "print(missing_values)\n",
    "\n",
    "# Check for duplicates\n",
    "duplicates = data.duplicated().sum()\n",
    "print(f\"Number of duplicate rows: {duplicates}\")"
   ]
  },
  {
   "cell_type": "code",
   "execution_count": null,
   "id": "a69740ef",
   "metadata": {},
   "outputs": [],
   "source": [
    "# Create correlation matrix\n",
    "matrix = data.corr()\n",
    "print(matrix)"
   ]
  },
  {
   "cell_type": "code",
   "execution_count": null,
   "id": "61f98b4d",
   "metadata": {},
   "outputs": [],
   "source": [
    "# Encode categorical variables\n",
    "label_encoders = {}\n",
    "categorical_features = ['Education', 'Personal Loan', 'Securities Account', 'CD Account', 'Online Banking', 'CreditCard']\n",
    "for col in categorical_features:\n",
    "    le = LabelEncoder()\n",
    "    data[col] = le.fit_transform(data[col])\n",
    "    label_encoders[col] = le\n",
    "\n",
    "# Standardize numerical features\n",
    "scaler = StandardScaler()\n",
    "numerical_features = [\"Age\", \"Experience(Years)\" , \"Credit Score\", \"Mortgage(Thousands's)\"]\n",
    "data[numerical_features] = scaler.fit_transform(data[numerical_features])"
   ]
  },
  {
   "cell_type": "code",
   "execution_count": null,
   "id": "04024c99",
   "metadata": {},
   "outputs": [],
   "source": [
    "# Split the data into training and testing sets\n",
    "X = data.drop([\"ID\", \"Income(Thousands's)\", \"Sort Code\"], axis=1)\n",
    "y = data[\"Income(Thousands's)\"]\n",
    "\n",
    "X_train, X_test, y_train, y_test = train_test_split(X, y, test_size=0.2, random_state=42)"
   ]
  },
  {
   "cell_type": "markdown",
   "id": "ade7c502",
   "metadata": {},
   "source": [
    "# Linear Regression"
   ]
  },
  {
   "cell_type": "code",
   "execution_count": null,
   "id": "9a870907",
   "metadata": {},
   "outputs": [],
   "source": [
    "# Linear Regression\n",
    "\n",
    "# Initialize the model\n",
    "linear_model = LinearRegression()\n",
    "\n",
    "# Train the model\n",
    "linear_model.fit(X_train, y_train)\n",
    "\n",
    "# Predictions\n",
    "y_pred = linear_model.predict(X_test)\n",
    "\n",
    "# Evaluation\n",
    "mse = mean_squared_error(y_test, y_pred)\n",
    "r2 = r2_score(y_test, y_pred)\n",
    "\n",
    "print(f\"Linear Regression MSE: {mse}\")\n",
    "print(f\"Linear Regression R2 Score: {r2}\")"
   ]
  },
  {
   "cell_type": "code",
   "execution_count": null,
   "id": "f539e6bf",
   "metadata": {},
   "outputs": [],
   "source": [
    "plt.figure(figsize=(10, 6))\n",
    "plt.plot(range(len(y_test)), y_test, color='blue', label='Actual Income')\n",
    "plt.plot(range(len(y_test)), y_pred, color='red', linestyle='--', label='Predicted Income')\n",
    "plt.xlabel('')\n",
    "plt.ylabel('Income (Thousands)')\n",
    "plt.title('Actual and Predicted Income')\n",
    "plt.legend()\n",
    "plt.show()"
   ]
  },
  {
   "cell_type": "markdown",
   "id": "b013fb39",
   "metadata": {},
   "source": [
    "# Artificial Neural Network"
   ]
  },
  {
   "cell_type": "code",
   "execution_count": null,
   "id": "d396aeda",
   "metadata": {},
   "outputs": [],
   "source": []
  },
  {
   "cell_type": "markdown",
   "id": "523ed167",
   "metadata": {},
   "source": [
    "# References\n",
    "\n",
    "https://www.geeksforgeeks.org/create-a-correlation-matrix-using-python/ (28/05)\n",
    "https://www.analyticsvidhya.com/blog/2021/10/implementing-artificial-neural-networkclassification-in-python-from-scratch/ (29/05)"
   ]
  }
 ],
 "metadata": {
  "kernelspec": {
   "display_name": "Python 3 (ipykernel)",
   "language": "python",
   "name": "python3"
  },
  "language_info": {
   "codemirror_mode": {
    "name": "ipython",
    "version": 3
   },
   "file_extension": ".py",
   "mimetype": "text/x-python",
   "name": "python",
   "nbconvert_exporter": "python",
   "pygments_lexer": "ipython3",
   "version": "3.9.18"
  }
 },
 "nbformat": 4,
 "nbformat_minor": 5
}
