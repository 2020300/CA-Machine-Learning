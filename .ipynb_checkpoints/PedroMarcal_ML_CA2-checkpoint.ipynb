{
 "cells": [
  {
   "cell_type": "markdown",
   "id": "f2df800f",
   "metadata": {},
   "source": [
    "# Name, etc"
   ]
  },
  {
   "cell_type": "markdown",
   "id": "1b2995f2",
   "metadata": {},
   "source": [
    "# Introduction"
   ]
  },
  {
   "cell_type": "code",
   "execution_count": 14,
   "id": "751d3599",
   "metadata": {},
   "outputs": [],
   "source": [
    "# Import libraries needed\n",
    "\n",
    "import pandas as pd\n",
    "import numpy as np\n",
    "from sklearn.model_selection import train_test_split\n",
    "from sklearn.preprocessing import StandardScaler, LabelEncoder\n",
    "from sklearn.linear_model import LogisticRegression\n",
    "from sklearn.metrics import accuracy_score, confusion_matrix, classification_report"
   ]
  },
  {
   "cell_type": "code",
   "execution_count": 2,
   "id": "0742d239",
   "metadata": {},
   "outputs": [
    {
     "data": {
      "text/html": [
       "<div>\n",
       "<style scoped>\n",
       "    .dataframe tbody tr th:only-of-type {\n",
       "        vertical-align: middle;\n",
       "    }\n",
       "\n",
       "    .dataframe tbody tr th {\n",
       "        vertical-align: top;\n",
       "    }\n",
       "\n",
       "    .dataframe thead th {\n",
       "        text-align: right;\n",
       "    }\n",
       "</style>\n",
       "<table border=\"1\" class=\"dataframe\">\n",
       "  <thead>\n",
       "    <tr style=\"text-align: right;\">\n",
       "      <th></th>\n",
       "      <th>ID</th>\n",
       "      <th>Age</th>\n",
       "      <th>Experience(Years)</th>\n",
       "      <th>Income(Thousands's)</th>\n",
       "      <th>Sort Code</th>\n",
       "      <th>Family</th>\n",
       "      <th>Credit Score</th>\n",
       "      <th>Education</th>\n",
       "      <th>Mortgage(Thousands's)</th>\n",
       "      <th>Personal Loan</th>\n",
       "      <th>Securities Account</th>\n",
       "      <th>CD Account</th>\n",
       "      <th>Online Banking</th>\n",
       "      <th>CreditCard</th>\n",
       "    </tr>\n",
       "  </thead>\n",
       "  <tbody>\n",
       "    <tr>\n",
       "      <th>0</th>\n",
       "      <td>1</td>\n",
       "      <td>25</td>\n",
       "      <td>1</td>\n",
       "      <td>49</td>\n",
       "      <td>91107</td>\n",
       "      <td>4</td>\n",
       "      <td>1.6</td>\n",
       "      <td>Diploma</td>\n",
       "      <td>0</td>\n",
       "      <td>No</td>\n",
       "      <td>Yes</td>\n",
       "      <td>No</td>\n",
       "      <td>No</td>\n",
       "      <td>No</td>\n",
       "    </tr>\n",
       "    <tr>\n",
       "      <th>1</th>\n",
       "      <td>2</td>\n",
       "      <td>45</td>\n",
       "      <td>19</td>\n",
       "      <td>34</td>\n",
       "      <td>90089</td>\n",
       "      <td>3</td>\n",
       "      <td>1.5</td>\n",
       "      <td>Diploma</td>\n",
       "      <td>0</td>\n",
       "      <td>No</td>\n",
       "      <td>Yes</td>\n",
       "      <td>No</td>\n",
       "      <td>No</td>\n",
       "      <td>No</td>\n",
       "    </tr>\n",
       "    <tr>\n",
       "      <th>2</th>\n",
       "      <td>3</td>\n",
       "      <td>39</td>\n",
       "      <td>15</td>\n",
       "      <td>11</td>\n",
       "      <td>94720</td>\n",
       "      <td>1</td>\n",
       "      <td>1.0</td>\n",
       "      <td>Diploma</td>\n",
       "      <td>0</td>\n",
       "      <td>No</td>\n",
       "      <td>No</td>\n",
       "      <td>No</td>\n",
       "      <td>No</td>\n",
       "      <td>No</td>\n",
       "    </tr>\n",
       "    <tr>\n",
       "      <th>3</th>\n",
       "      <td>4</td>\n",
       "      <td>35</td>\n",
       "      <td>9</td>\n",
       "      <td>100</td>\n",
       "      <td>94112</td>\n",
       "      <td>1</td>\n",
       "      <td>2.7</td>\n",
       "      <td>Degree</td>\n",
       "      <td>0</td>\n",
       "      <td>No</td>\n",
       "      <td>No</td>\n",
       "      <td>No</td>\n",
       "      <td>No</td>\n",
       "      <td>No</td>\n",
       "    </tr>\n",
       "    <tr>\n",
       "      <th>4</th>\n",
       "      <td>5</td>\n",
       "      <td>35</td>\n",
       "      <td>8</td>\n",
       "      <td>45</td>\n",
       "      <td>91330</td>\n",
       "      <td>4</td>\n",
       "      <td>1.0</td>\n",
       "      <td>Degree</td>\n",
       "      <td>0</td>\n",
       "      <td>No</td>\n",
       "      <td>No</td>\n",
       "      <td>No</td>\n",
       "      <td>No</td>\n",
       "      <td>Yes</td>\n",
       "    </tr>\n",
       "  </tbody>\n",
       "</table>\n",
       "</div>"
      ],
      "text/plain": [
       "   ID  Age  Experience(Years)  Income(Thousands's)  Sort Code  Family  \\\n",
       "0   1   25                  1                   49      91107       4   \n",
       "1   2   45                 19                   34      90089       3   \n",
       "2   3   39                 15                   11      94720       1   \n",
       "3   4   35                  9                  100      94112       1   \n",
       "4   5   35                  8                   45      91330       4   \n",
       "\n",
       "   Credit Score Education  Mortgage(Thousands's) Personal Loan  \\\n",
       "0           1.6   Diploma                      0            No   \n",
       "1           1.5   Diploma                      0            No   \n",
       "2           1.0   Diploma                      0            No   \n",
       "3           2.7    Degree                      0            No   \n",
       "4           1.0    Degree                      0            No   \n",
       "\n",
       "  Securities Account CD Account Online Banking CreditCard  \n",
       "0                Yes         No             No         No  \n",
       "1                Yes         No             No         No  \n",
       "2                 No         No             No         No  \n",
       "3                 No         No             No         No  \n",
       "4                 No         No             No        Yes  "
      ]
     },
     "execution_count": 2,
     "metadata": {},
     "output_type": "execute_result"
    }
   ],
   "source": [
    "data = pd.read_csv(\"C:/Users/henri/Documents/GitHub/CA-Machine-Learning/BankRecords.csv\")\n",
    "data.head()"
   ]
  },
  {
   "cell_type": "code",
   "execution_count": 3,
   "id": "771ad4b3",
   "metadata": {},
   "outputs": [
    {
     "name": "stdout",
     "output_type": "stream",
     "text": [
      "ID                       0\n",
      "Age                      0\n",
      "Experience(Years)        0\n",
      "Income(Thousands's)      0\n",
      "Sort Code                0\n",
      "Family                   0\n",
      "Credit Score             0\n",
      "Education                0\n",
      "Mortgage(Thousands's)    0\n",
      "Personal Loan            0\n",
      "Securities Account       0\n",
      "CD Account               0\n",
      "Online Banking           0\n",
      "CreditCard               0\n",
      "dtype: int64\n",
      "Number of duplicate rows: 0\n"
     ]
    }
   ],
   "source": [
    "# Check for missing values\n",
    "missing_values = data.isnull().sum()\n",
    "print(missing_values)\n",
    "\n",
    "# Check for duplicates\n",
    "duplicates = data.duplicated().sum()\n",
    "print(f\"Number of duplicate rows: {duplicates}\")"
   ]
  },
  {
   "cell_type": "code",
   "execution_count": 4,
   "id": "a69740ef",
   "metadata": {},
   "outputs": [
    {
     "name": "stdout",
     "output_type": "stream",
     "text": [
      "                             ID       Age  Experience(Years)  \\\n",
      "ID                     1.000000 -0.008473          -0.008326   \n",
      "Age                   -0.008473  1.000000           0.994215   \n",
      "Experience(Years)     -0.008326  0.994215           1.000000   \n",
      "Income(Thousands's)   -0.017695 -0.055269          -0.046574   \n",
      "Sort Code              0.013432 -0.029216          -0.028626   \n",
      "Family                -0.016797 -0.046418          -0.052563   \n",
      "Credit Score          -0.024672 -0.052030          -0.050089   \n",
      "Mortgage(Thousands's) -0.013920 -0.012539          -0.010582   \n",
      "\n",
      "                       Income(Thousands's)  Sort Code    Family  Credit Score  \\\n",
      "ID                               -0.017695   0.013432 -0.016797     -0.024672   \n",
      "Age                              -0.055269  -0.029216 -0.046418     -0.052030   \n",
      "Experience(Years)                -0.046574  -0.028626 -0.052563     -0.050089   \n",
      "Income(Thousands's)               1.000000  -0.016410 -0.157501      0.645993   \n",
      "Sort Code                        -0.016410   1.000000  0.011778     -0.004068   \n",
      "Family                           -0.157501   0.011778  1.000000     -0.109285   \n",
      "Credit Score                      0.645993  -0.004068 -0.109285      1.000000   \n",
      "Mortgage(Thousands's)             0.206806   0.007383 -0.020445      0.109909   \n",
      "\n",
      "                       Mortgage(Thousands's)  \n",
      "ID                                 -0.013920  \n",
      "Age                                -0.012539  \n",
      "Experience(Years)                  -0.010582  \n",
      "Income(Thousands's)                 0.206806  \n",
      "Sort Code                           0.007383  \n",
      "Family                             -0.020445  \n",
      "Credit Score                        0.109909  \n",
      "Mortgage(Thousands's)               1.000000  \n"
     ]
    }
   ],
   "source": [
    "# Create correlation matrix\n",
    "matrix = data.corr()\n",
    "print(matrix)"
   ]
  },
  {
   "cell_type": "code",
   "execution_count": 9,
   "id": "61f98b4d",
   "metadata": {},
   "outputs": [],
   "source": [
    "# Encode categorical variables\n",
    "label_encoders = {}\n",
    "categorical_features = ['Education', 'Personal Loan', 'Securities Account', 'CD Account', 'Online Banking', 'CreditCard']\n",
    "for col in categorical_features:\n",
    "    le = LabelEncoder()\n",
    "    data[col] = le.fit_transform(data[col])\n",
    "    label_encoders[col] = le\n",
    "\n",
    "# Standardize numerical features\n",
    "scaler = StandardScaler()\n",
    "numerical_features = [\"Age\", \"Experience(Years)\" , \"Credit Score\", \"Mortgage(Thousands's)\"]\n",
    "data[numerical_features] = scaler.fit_transform(data[numerical_features])"
   ]
  },
  {
   "cell_type": "code",
   "execution_count": 13,
   "id": "04024c99",
   "metadata": {},
   "outputs": [],
   "source": [
    "# Split the data into training and testing sets\n",
    "X = data.drop([\"ID\", \"Income(Thousands's)\", \"Sort Code\"], axis=1)\n",
    "y = data[\"Income(Thousands's)\"]\n",
    "\n",
    "X_train, X_test, y_train, y_test = train_test_split(X, y, test_size=0.2, random_state=42)"
   ]
  },
  {
   "cell_type": "code",
   "execution_count": 16,
   "id": "9a870907",
   "metadata": {},
   "outputs": [
    {
     "name": "stdout",
     "output_type": "stream",
     "text": [
      "Logistic Regression Accuracy: 0.775\n",
      "Confusion Matrix:\n",
      "[[499  59]\n",
      " [166 276]]\n",
      "Classification Report:\n",
      "              precision    recall  f1-score   support\n",
      "\n",
      "           0       0.75      0.89      0.82       558\n",
      "           1       0.82      0.62      0.71       442\n",
      "\n",
      "    accuracy                           0.78      1000\n",
      "   macro avg       0.79      0.76      0.76      1000\n",
      "weighted avg       0.78      0.78      0.77      1000\n",
      "\n"
     ]
    }
   ],
   "source": [
    "# Create a binary target variable\n",
    "threshold = 70\n",
    "y_binary = (y > threshold).astype(int)\n",
    "\n",
    "# Split the data \n",
    "X_train_binary, X_test_binary, y_train_binary, y_test_binary = train_test_split(X, y_binary, test_size=0.2, random_state=42)\n",
    "\n",
    "# Initialize and train the logistic regression model\n",
    "logistic_model = LogisticRegression()\n",
    "logistic_model.fit(X_train_binary, y_train_binary)\n",
    "\n",
    "# Make predictions\n",
    "y_pred_binary = logistic_model.predict(X_test_binary)\n",
    "\n",
    "# Evaluating model\n",
    "accuracy = accuracy_score(y_test_binary, y_pred_binary)\n",
    "conf_matrix = confusion_matrix(y_test_binary, y_pred_binary)\n",
    "class_report = classification_report(y_test_binary, y_pred_binary)\n",
    "\n",
    "print(f\"Logistic Regression Accuracy: {accuracy}\")\n",
    "print(\"Confusion Matrix:\")\n",
    "print(conf_matrix)\n",
    "print(\"Classification Report:\")\n",
    "print(class_report)"
   ]
  },
  {
   "cell_type": "code",
   "execution_count": null,
   "id": "f539e6bf",
   "metadata": {},
   "outputs": [],
   "source": []
  },
  {
   "cell_type": "markdown",
   "id": "523ed167",
   "metadata": {},
   "source": [
    "# References\n",
    "\n",
    "https://www.geeksforgeeks.org/create-a-correlation-matrix-using-python/ (28/05)"
   ]
  }
 ],
 "metadata": {
  "kernelspec": {
   "display_name": "Python 3 (ipykernel)",
   "language": "python",
   "name": "python3"
  },
  "language_info": {
   "codemirror_mode": {
    "name": "ipython",
    "version": 3
   },
   "file_extension": ".py",
   "mimetype": "text/x-python",
   "name": "python",
   "nbconvert_exporter": "python",
   "pygments_lexer": "ipython3",
   "version": "3.9.12"
  }
 },
 "nbformat": 4,
 "nbformat_minor": 5
}
