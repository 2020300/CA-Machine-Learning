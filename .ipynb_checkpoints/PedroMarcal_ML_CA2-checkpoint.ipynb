{
 "cells": [
  {
   "cell_type": "markdown",
   "id": "f2df800f",
   "metadata": {},
   "source": [
    "# Name, etc"
   ]
  },
  {
   "cell_type": "markdown",
   "id": "1b2995f2",
   "metadata": {},
   "source": [
    "# Introduction\n",
    "\n",
    "This CA consists of 2 parts. Neural Networks and Semantic analysis.\n",
    "\n",
    "### Neural Networks\n",
    "\n",
    "You are required to take data stored file “BankRecords.csv”, available on Moodle and process the data into a DataFrame. \n",
    "You are then required to train a Neural Network to predict the “Income(Thousands’)” of the customers, including tuning the network to achieve the best results.\n",
    "You must also compare your neural network to a standard ML regressor of your choosing and discuss your findings in the context of the problem at hand.\n",
    "\n",
    "### Semantic Analysis\n",
    "\n",
    "You are required to source text data from any social media platform on any topic that you choose and perform semantic analysis on the text. This analysis should provide a visualization of  the overall sentiment of your text data , showing the positive, neutral, and negative sentiment expressed. You will require at least 1000 text observations."
   ]
  },
  {
   "cell_type": "code",
   "execution_count": null,
   "id": "751d3599",
   "metadata": {},
   "outputs": [],
   "source": [
    "# Import libraries needed\n",
    "\n",
    "import numpy as py\n",
    "import pandas as pd\n",
    "from sklearn.model_selection import train_test_split\n",
    "from sklearn.preprocessing import StandardScaler, LabelEncoder\n",
    "from sklearn.metrics import accuracy_score, confusion_matrix, classification_report\n",
    "from sklearn.linear_model import LinearRegression\n",
    "from sklearn.metrics import mean_squared_error, r2_score\n",
    "import matplotlib.pyplot as plt\n",
    "import tensorflow as tf\n",
    "from sklearn.compose import ColumnTransformer\n",
    "from sklearn.preprocessing import OneHotEncoder\n",
    "from keras.models import Sequential\n",
    "from keras.layers import Dense\n",
    "from numpy import loadtxt"
   ]
  },
  {
   "cell_type": "code",
   "execution_count": null,
   "id": "0742d239",
   "metadata": {},
   "outputs": [],
   "source": [
    "data = pd.read_csv(\"C:/Users/henri/Documents/GitHub/CA-Machine-Learning/BankRecords.csv\")\n",
    "data.head()"
   ]
  },
  {
   "cell_type": "code",
   "execution_count": null,
   "id": "771ad4b3",
   "metadata": {},
   "outputs": [],
   "source": [
    "# Check for missing values\n",
    "missing_values = data.isnull().sum()\n",
    "print(missing_values)\n",
    "\n",
    "# Check for duplicates\n",
    "duplicates = data.duplicated().sum()\n",
    "print(f\"Number of duplicate rows: {duplicates}\")"
   ]
  },
  {
   "cell_type": "code",
   "execution_count": null,
   "id": "d91b33c8-a1ff-4d6c-9f66-30499442ccaa",
   "metadata": {},
   "outputs": [],
   "source": [
    "# Encode categorical variables\n",
    "label_encoders = {}\n",
    "categorical_features = ['Education', 'Personal Loan', 'Securities Account', 'CD Account', 'Online Banking', 'CreditCard']\n",
    "for col in categorical_features:\n",
    "    le = LabelEncoder()\n",
    "    data[col] = le.fit_transform(data[col])\n",
    "    label_encoders[col] = le\n",
    "\n",
    "# Standardize numerical features\n",
    "scaler = StandardScaler()\n",
    "numerical_features = [\"Age\", \"Experience(Years)\" , \"Credit Score\", \"Mortgage(Thousands's)\"]\n",
    "data[numerical_features] = scaler.fit_transform(data[numerical_features])"
   ]
  },
  {
   "cell_type": "code",
   "execution_count": null,
   "id": "a69740ef",
   "metadata": {},
   "outputs": [],
   "source": [
    "# Create correlation matrix\n",
    "matrix = data.corr()\n",
    "print(matrix)"
   ]
  },
  {
   "cell_type": "code",
   "execution_count": null,
   "id": "04024c99",
   "metadata": {},
   "outputs": [],
   "source": [
    "# Split the data into training and testing sets\n",
    "X = data.drop([\"ID\", \"Income(Thousands's)\", \"Sort Code\"], axis=1)\n",
    "y = data[\"Income(Thousands's)\"]\n",
    "\n",
    "X_train, X_test, y_train, y_test = train_test_split(X, y, test_size=0.2, random_state=42)"
   ]
  },
  {
   "cell_type": "markdown",
   "id": "ade7c502",
   "metadata": {},
   "source": [
    "# Linear Regression"
   ]
  },
  {
   "cell_type": "code",
   "execution_count": null,
   "id": "d62ec643-0585-4684-a35a-855e8a613c92",
   "metadata": {},
   "outputs": [],
   "source": []
  },
  {
   "cell_type": "code",
   "execution_count": null,
   "id": "9a870907",
   "metadata": {},
   "outputs": [],
   "source": [
    "# Linear Regression\n",
    "\n",
    "# Initialize the model\n",
    "linear_model = LinearRegression()\n",
    "\n",
    "# Train the model\n",
    "linear_model.fit(X_train, y_train)\n",
    "\n",
    "# Predictions\n",
    "y_pred = linear_model.predict(X_test)\n",
    "\n",
    "# Evaluation\n",
    "mse = mean_squared_error(y_test, y_pred)\n",
    "r2 = r2_score(y_test, y_pred)\n",
    "\n",
    "print(f\"Linear Regression MSE: {mse}\")\n",
    "print(f\"Linear Regression R2 Score: {r2}\")"
   ]
  },
  {
   "cell_type": "code",
   "execution_count": null,
   "id": "f539e6bf",
   "metadata": {},
   "outputs": [],
   "source": [
    "plt.figure(figsize=(10, 6))\n",
    "plt.plot(range(len(y_test)), y_test, color='blue', label='Actual Income')\n",
    "plt.plot(range(len(y_test)), y_pred, color='red', linestyle='--', label='Predicted Income')\n",
    "plt.xlabel('')\n",
    "plt.ylabel('Income (Thousands)')\n",
    "plt.title('Actual and Predicted Income')\n",
    "plt.legend()\n",
    "plt.show()"
   ]
  },
  {
   "cell_type": "markdown",
   "id": "b013fb39",
   "metadata": {},
   "source": [
    "# Artificial Neural Network"
   ]
  },
  {
   "cell_type": "code",
   "execution_count": null,
   "id": "a6d3b017-6a13-426a-94f6-507bca213da8",
   "metadata": {},
   "outputs": [],
   "source": []
  },
  {
   "cell_type": "code",
   "execution_count": null,
   "id": "d396aeda",
   "metadata": {},
   "outputs": [],
   "source": [
    "# Split the data into training and testing sets\n",
    "X = data.drop([\"ID\", \"Income(Thousands's)\", \"Sort Code\"], axis=1)\n",
    "y = data[\"Income(Thousands's)\"]\n",
    "\n",
    "# One-hot encode the 'Education' column\n",
    "X = pd.get_dummies(X, columns=[\"Education\"], drop_first=True)\n",
    "\n",
    "# Split the data into training and testing sets\n",
    "X_train, X_test, y_train, y_test = train_test_split(X, y, test_size=0.2, random_state=42)\n",
    "\n",
    "# Standardize the numerical columns\n",
    "numerical_columns = [\"Age\", \"Experience(Years)\", \"Family\", \"Credit Score\", \"Mortgage(Thousands's)\"]\n",
    "scaler = StandardScaler()\n",
    "X_train[numerical_columns] = scaler.fit_transform(X_train[numerical_columns])\n",
    "X_test[numerical_columns] = scaler.transform(X_test[numerical_columns])\n",
    "\n",
    "# Handle missing values by filling them with mean\n",
    "X_train = X_train.fillna(X_train.mean())\n",
    "X_test = X_test.fillna(X_train.mean())\n",
    "\n",
    "# Convert DataFrame to NumPy array and specify data types\n",
    "X_train_np = X_train.values.astype('float32')\n",
    "y_train_np = y_train.values.astype('float32')\n",
    "\n",
    "# Convert test data to NumPy arrays\n",
    "X_test_np = X_test.values.astype('float32')\n",
    "y_test_np = y_test.values.astype('float32')\n",
    "\n",
    "# Define the keras model\n",
    "model = Sequential()\n",
    "model.add(Dense(12, input_dim=12, activation='relu'))\n",
    "model.add(Dense(8, activation='relu'))\n",
    "model.add(Dense(1))  # Remove activation function for regression\n",
    "\n",
    "# Compile the model for regression\n",
    "model.compile(loss='mean_squared_error', optimizer='adam', metrics=['mae', 'mse'])\n",
    "\n",
    "# Fit the keras model on the dataset\n",
    "model.fit(X_train_np, y_train_np, epochs=150, batch_size=10)"
   ]
  },
  {
   "cell_type": "code",
   "execution_count": null,
   "id": "43a8dd60-057b-42ab-a115-51bea2c35974",
   "metadata": {},
   "outputs": [],
   "source": [
    "# make class predictions with the model\n",
    "predictions = model.predict(X_test_np)\n",
    "# summarize the first 5 cases\n",
    "for i in range(5):\n",
    "    print('%s => %d (expected %d)' % (X_test_np[i].tolist(),\n",
    "    predictions[i], y[i]))\n",
    "\n",
    "# evaluate the model using Mean Absolute Error\n",
    "loss, mae, _ = model.evaluate(X_test_np, y_test_np)\n",
    "print('Neural Network Mean Absolute Error: %.2f' % mae)"
   ]
  },
  {
   "cell_type": "markdown",
   "id": "ae205a0d-9645-4b88-8272-a713316a1acb",
   "metadata": {},
   "source": [
    "# Sentimental Analysis\n",
    "\n",
    "Reviews about the new Spider Man movie"
   ]
  },
  {
   "cell_type": "code",
   "execution_count": null,
   "id": "284c3b45-3b00-499a-bcc7-594a4f9ff28c",
   "metadata": {},
   "outputs": [],
   "source": [
    "# Import libraries needed\n",
    "\n",
    "import nltk \n",
    "from nltk.sentiment import SentimentIntensityAnalyzer\n",
    "\n",
    "nltk.download('vader_lexicon')\n"
   ]
  },
  {
   "cell_type": "code",
   "execution_count": null,
   "id": "d3ffd265-a496-46ae-9bf1-a189b6d2a7d8",
   "metadata": {},
   "outputs": [],
   "source": [
    "# Create variables to store the three reviews\n",
    "review1 = \"In 2002, Sam Raimis SpiderMan swung into theaters and changed everything. The film was a massive, massive success at the box office, and when that happens, producers and studios get itchy. If SpiderMan was a hit, surely more superhero movies would hit just as big! Of course, that wasnt true, and we got a series of mixed super flicks, some good, some not so good. Then came along and gave us the onetwo punch of Iron Man and The Dark Knight. The realistic superhero era was born thanks to The Dark Knight, while Iron Man paved the way for the Marvel Cinematic Universe. And weve been buried under the weight of it all ever since. It is fair to say were overloaded with superhero movies. Im not here to deride anyone who still derives pleasure from these things, but as for me, I burned out on the subgenre a while ago. They all blend together into one CGIenhanced mess in my mind. And yet, every now and then, a movie comes along to remind me that — in the right hands — theres still a little magic left to be conjured. Such was the case with 2018s wonderful SpiderMan: Into the SpiderVerse, a film that used the medium of animation to create something stylish, and grand, and beautiful. On top of that, there was a touching, emotional journey as Brooklyn kid Miles Morales (voiced by Shameik Moore) learned to become SpiderMan, backed up by some SpiderPeople from other dimensions. Now Miles is back with SpiderMan: Across the SpiderVerse, a sequel thats bigger and bolder than the first ... and also incomplete. By making this the first of two films, writers Phil Lord, Christopher Miller, and David Callaham have crafted a movie that doesnt really feel like a movie — its just a chapter. An exciting chapter, sure, but an unfinished chapter that runs out the clock, torpedoing all the momentum it was building in the process. All right, lets do this one last time. Its been a year since Miles became SpiderMan, and while hes clearly improved his spideyskills in that year (and grown a little too — one of the films neat choices is to make many of the characters look slightly older), hes struggling to juggle both his normal student life and his superhero alter ego. His parents, father Jefferson (Brian Tyree Henry) and mother Rio (Luna Lauren Vélez), want to know why Miles is late to everything all the time, and Rio is convinced her son is hiding something. The moments between Miles and his parents are funny, warm, and full of big, emotional beats where Miles struggles to tell them the truth but ultimately decides he cant. His parents, for their part, want to understand, but can only operate based on what Miles is telling them, and hes not telling them much. As for Miles, hes in a bit of a funk. He misses his friends from alternate universes, especially Gwen Stacy (Hailee Steinfeld), another SpiderPerson who is ten times cooler than he is. Miles is unable to jump between dimensions and universes, therefore he assumes hes never going to see Gwen again. But Gwen soon comes calling, and we learn that shes been recruited by the Spider Society, a group of what seems to be thousands upon thousands of SpiderPeople all under the leadership of Miguel OHara, aka SpiderMan 2099, a futuristic SpiderMan who is also a vampire (hey, thats cool!). Hes also, in the words of Miles mentor Peter B. Parker (Jake Johnson), the only SpiderMan who doesnt tell jokes. Miguel has no time for crackingwise — he has multiverses to save, damn it! Meanwhile, a bad guy named The Spot (Jason Schwartzman), his body covered in portals to other locations and dimensions, has arrived on the scene. Miles dismisses this somewhat buffoonish figure as a villain of the week, but The Spot is growing more powerful, and that could mean serious, serious trouble for Miles. Directors Joaquim Dos Santos, Kemp Powers, and Justin K. Thompson, and their animators, create all of this in stunning, jawdropping detail. Animation is what makes the SpiderVerse films so special — because they dont play by traditional animation rules. In fact, they ask the question: Why have rules at all? The worlds on display here are pop art extravaganzas, bursting with color and vibrancy. They feel more alive, more livedin, than the vast majority of the CGIenhanced worlds that liveaction superheroes inhabit. Some of the best moments of Across the SpiderVerse happen when the scenery takes center stage. Theres a stunning, lovely little scene where Miles and Gwen sit upsidedown on a skyscraper looking out over New York, the skyline vast and sparkling and stretching on seemingly forever. You get the sense that every single one of those buildings is full of people with their own little stories just waiting to be told. Later, a conversation with Gwen and her father features shifting backgrounds where the colors change to pastels, watercolors, and abstract shapes. Its gorgeous to look at. As are the many pulsepounding fight scenes, where characters spin and flip and twirl through modernist art backgrounds, the colors popping, the energy never letting up. Theres a wonderful fight between Miles and The Spot where Miles keeps falling through the portals all over The Spots body, making it hard to land a punch; that sort of inventiveness goes a long way. Since Into the SpiderVerse already established the formula, Across the SpiderVerse is free to get even crazier and more creative, throwing brilliant ideas up on the screen. Theres a villain animated to look like he just jumped out of the pages of Leonardo Da Vincis sketchbook. And theres the nononsense SpiderPunk (a very funny Daniel Kaluuya), whose animation style keeps changing from shot to shot, designed to look like hes been torn from a band poster plastered against a wall in an alley. These artistic choices are delightful, and they mix with a sweethearted script packed with jokes (some that land, others that definitely do not) to create a wild, inventive, entertaining film with propulsive energy and style to spare. Across The SpiderVerse is a movie on its own, but it definitely ends on a bit of a cliffhanger. So said codirector Kemp Powers in a recent interview about the film. Heres the thing: Im not quite sure that this really is a movie on its own. Cliffhangers are nothing new in the world of film — they date all the way back to silent movie serials. And of course, The Empire Strikes Back, one of the most beloved blockbusters of all time, concludes with a cliffhanger. But Empire also feels like it tells a complete story. Theres plenty of room for that story to continue, but the film itself never seems incomplete. Most recently, another space opera, Denis Villeneuves Dune, did something similar, ending with a setup for the sequel while also giving us what came across as a (mostly) complete narrative. Across the SpiderVerse, however, is in a mad dash to get to the third movie, making everything that happens here little more than a steppingstone to the real story, the one we cant have just yet.\"\n",
    "review2 = \"The first reactions are in for SpiderMan Across the SpiderVerse, with critics and journalists saying the film is an actual work of art while also darker and sadder than expected. The longawaited sequel to 2018s highly successful animated adventure SpiderMan Into the SpiderVerse, Across the SpiderVerse picks up over a year after the events of the first film. Miles Morales SpiderMan Shameik Moore is approached by Gwen Stacy SpiderWoman Hailee Steinfeld to help her complete a mission that will save every universe from supervillain the Spot Jason Schwartzman. Together, Miles and Gwen travel through the Multiverse, where they encounter the SpiderSociety, led by Miguel OHara Oscar Isaac. CinemaBlend managing editor Sean OConnell wrote on Twitter that the film lives one step above Masterpiece. Its an actual work of art. Every frame deserves to be hung in a museum. The jokes and nods to Spidey lore are perfect.. THR writer Brian Davids teased that Across the SpiderVerse is darker and sadder than I expected, but necessary. Davids also praised Steinfelds performance as Gwen, saying she really comes into her own. Meanwhile, Rotten Tomatoes writer Tessa Smith said Across the SpiderVerse raises its own bar which seemed impossible. There are shocking twists, unexpected surprises and a story that truly makes sense for the crazy multiverse world that we have all jumped head first in to, Smith continued. Uproxx writer Mike Ryan concurred, tweeting that the sequel is not surprisingly terrific and is still about Miles just wanting to be accepted for who he is. However, not everyone was a fan of the sequel. This Week Media editor in chief Eze Baum said that the film ultimately fails to come close to where the original is for me, mainly due to the fact that it prioritizes fan service over a strong story.\"\n",
    "review3 = \"The most recent SpiderMan Far From Home trailer gave us our first look at the Marvel Cinematic Universe postAvengers Endgame. While the highly anticipated Spidey sequel is still technically part of Phase 3, it will also set the stage for what looks to be an exciting future in the MCU. It was heavily speculated that the events of Avengers Endgame would forever change the Marvel Cinematic Universe, and now thanks to the SpiderMan Far From Home trailer, we have a better idea as to how. As revealed by Nick Fury himself, the snap tore a hole in our dimension, effectively introducing the multiverse. As the trailer explains, Quentin Beck/Mysterio Jake Gyllenhaal comes from Earth, just not ours. The introduction of the multiverse is a huge twist that has infinite possibiltiies as far as the future of the Marvel Cinematic Universe is concerned. Of course, the concept of a multiverse is not exactly a new thing to comic book fans. SpiderMan fans, in particular, are especially familiar with the idea of alternate universes, especially after last year's SpiderMan Into the SpiderVerse. Sony's animated hit was all about the introduction of the SpiderVerse, where multiple alternative versions of the webslinger exist in different dimensions. That brings us to a recent tweet from the official SpiderMan Into the SpiderVerse Twitter acount. Just days after the SpiderMan Far From Home trailer, the official social media channel for the animated movie posted a picture of SpiderMan peering into what appears to be the collider from the film which opened up the different dimensions. Alongside the photo is the caption See you in another dimension, followed by the peace fingers and spider emoji. Interestingly, the image features a SpiderMan more closely resembling Peter Parker in the traditional red and blue outfit, not Miles Morales who donned a black and red suit in Into the SpiderVerse. Speculation is running rampant following the cryptic tweet especially since another clip from Far From Home was released with Mysterio specifically mentioning Earth616 and Earth833. Clearly, Phase 4 of the Marvel Cinematic Universe is going to be unlike anything Marvel Studios has done on the big screen. Is Sony simply acknowleding the multiverse in SpiderMan Far From Home, or is something bigger in the works  a major crossover between the MCU and Sony's own SpiderMan movies Into the SpiderVerse, Venom, etc., perhaps With Marvel Studios working closely with Sony on the SpiderMan MCU trilogy, it's not unreasonable to think that the two companies haven't discussed bigger picture plans. Can you imagine all of the actors who have portrayed Peter Parker Andrew Garfield, Tobey Maguire, Jake Johnson, to name a few appearing within the MCU What about Into the SpiderVerse's Miles Morales Far From Home director Jon Watts was recently asked if Miles Morales will factor into the upcoming film in any way, and he a very interesting response. There is no Miles in this film, or at least not yet. Watts teased. But who knows... we edit these films down to the last second, so you never know. Of course, it's entirely possible that the Into the SpiderVerse tweet could simply serve as a reminder that a sequel film, a SpiderWoman spinoff, and a television series all inspired by the animated feature are coming in the future. What do you think the See you in another dimension tweet could mean We'll get a better idea when SpiderMan Far From Home swings into theaters on July 2.\"\n",
    "\n",
    "# Analyze sentiment for each review\n",
    "sentiment_scores = []\n",
    "for review_var in ['review1', 'review2', 'review3']:\n",
    "    review = globals()[review_var] \n",
    "    sentiment_score = sia.polarity_scores(review)\n",
    "    sentiment_scores.append(sentiment_score)\n",
    "\n",
    "# Classify sentiment for each review\n",
    "def classify_sentiment(sentiment_score):\n",
    "    compound_score = sentiment_score['compound']\n",
    "    if compound_score >= 0.05:\n",
    "        sentiment = \"Positive\"\n",
    "    elif compound_score <= -0.05:\n",
    "        sentiment = \"Negative\"\n",
    "    else:\n",
    "        sentiment = \"Neutral\"\n",
    "    return sentiment\n",
    "\n",
    "# Print sentiment for each review\n",
    "for i, sentiment_score in enumerate(sentiment_scores):\n",
    "    sentiment = classify_sentiment(sentiment_score)\n",
    "    print(f\"Review {i+1}:\")\n",
    "    print(\"Positive:\", sentiment_score['pos'])\n",
    "    print(\"Negative:\", sentiment_score['neg'])\n",
    "    print(\"Compound Score:\", sentiment_score['compound'])\n",
    "    print(\"Sentiment:\", sentiment)\n",
    "    print()\n",
    "\n",
    "# Create a DataFrame with the reviews for better visualization\n",
    "data = {\n",
    "    'Review': ['Review1', 'Review2', 'Review3'],\n",
    "    'Sentiment': [classify_sentiment(sentiment_score) for sentiment_score in sentiment_scores]\n",
    "}\n",
    "dataframe = pd.DataFrame(data)\n",
    "\n",
    "# Display DataFrame\n",
    "print(dataframe)"
   ]
  },
  {
   "cell_type": "markdown",
   "id": "523ed167",
   "metadata": {},
   "source": [
    "# References\n",
    "\n",
    "https://www.geeksforgeeks.org/create-a-correlation-matrix-using-python/ (28/05)\n",
    "A Neural Network model using python, pdf given in class week 15/05 (30/05)\n",
    "https://www.analyticsvidhya.com/blog/2021/10/implementing-artificial-neural-networkclassification-in-python-from-scratch/ (29/05)\n",
    "\n",
    "# References Semantic Analysis\n",
    "\n",
    "https://www.youtube.com/watch?v=u7tX7IWVjbQ (30/05)\n",
    "https://x.com/cevangelista413/status/1663893415115800576 (30/05)\n",
    "https://www.slashfilm.com/1300967/spider-man-across-the-spider-verse-review/ (30/05)\n",
    "https://variety.com/2023/film/news/spider-man-across-the-spider-verse-reactions-1235624765/ (30/05)\n",
    "https://comicbookmovie.com/spider_man/into-the-spider_verse/cryptic-spider-man-into-the-spider-verse-tweet-fuels-far-from-home-and-mcu-multiverse-speculation-a168255 (03/05)"
   ]
  }
 ],
 "metadata": {
  "kernelspec": {
   "display_name": "Python 3 (ipykernel)",
   "language": "python",
   "name": "python3"
  },
  "language_info": {
   "codemirror_mode": {
    "name": "ipython",
    "version": 3
   },
   "file_extension": ".py",
   "mimetype": "text/x-python",
   "name": "python",
   "nbconvert_exporter": "python",
   "pygments_lexer": "ipython3",
   "version": "3.9.18"
  }
 },
 "nbformat": 4,
 "nbformat_minor": 5
}
